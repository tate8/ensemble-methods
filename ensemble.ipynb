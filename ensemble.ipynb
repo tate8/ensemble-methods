{
 "cells": [
  {
   "cell_type": "markdown",
   "metadata": {},
   "source": [
    "# Ensemble Methods\n",
    "\n",
    "**Overview**<br>\n",
    "\n",
    "1. Voting Ensemble\n",
    "    *  Load MNIST data\n",
    "    *  Split into train, val and test set\n",
    "    *  Train various classifiers on train set\n",
    "    *  Combine classifiers into an ensemble that outperforms all the individual classifiers, using hard or soft voting\n",
    "    *  Measure performance on test set. How much better does it do than the individual classifiers?\n",
    "<br><br>\n",
    "2. Stacking Ensemble\n",
    "    *  Run the previous individual classifiers on the val set and greate a new training set with the predictions\n",
    "    *  Train classifier (blender) on new train set (vectors of the individual classifier's predictions)\n",
    "    *  Evaluate the full ensemble on the test set\n",
    "    *  How does it compare to the previous voting classifier?"
   ]
  },
  {
   "cell_type": "code",
   "execution_count": 315,
   "metadata": {},
   "outputs": [
    {
     "name": "stdout",
     "output_type": "stream",
     "text": [
      "Nothing done.\n"
     ]
    }
   ],
   "source": [
    "from sklearn.datasets import load_digits\n",
    "from sklearn.model_selection import train_test_split\n",
    "from sklearn.ensemble import RandomForestClassifier, ExtraTreesClassifier, VotingClassifier\n",
    "from sklearn.svm import SVC\n",
    "from sklearn.metrics import accuracy_score\n",
    "\n",
    "%reset"
   ]
  },
  {
   "cell_type": "markdown",
   "metadata": {},
   "source": [
    "## Voting Ensemble\n",
    "**Step 1: Load data**"
   ]
  },
  {
   "cell_type": "code",
   "execution_count": 316,
   "metadata": {},
   "outputs": [],
   "source": [
    "digits = load_digits()\n",
    "X = digits['data']\n",
    "y = digits['target']"
   ]
  },
  {
   "cell_type": "markdown",
   "metadata": {},
   "source": [
    "**Step 2: Train, val, and test sets**"
   ]
  },
  {
   "cell_type": "code",
   "execution_count": 317,
   "metadata": {},
   "outputs": [],
   "source": [
    "train_ratio = 0.75\n",
    "validation_ratio = 0.15\n",
    "test_ratio = 0.15\n",
    "\n",
    "X_train, X_test, y_train, y_test = train_test_split(X, y, test_size=1 - train_ratio)\n",
    "\n",
    "\n",
    "X_val, X_test, y_val, y_test = train_test_split(X_test, y_test, test_size=test_ratio/(test_ratio + validation_ratio)) "
   ]
  },
  {
   "cell_type": "markdown",
   "metadata": {},
   "source": [
    "**Step 3: Train various classifiers on train set**"
   ]
  },
  {
   "cell_type": "code",
   "execution_count": 318,
   "metadata": {},
   "outputs": [
    {
     "name": "stdout",
     "output_type": "stream",
     "text": [
      "Random Forest accuracy: 96.44444444444444%\n",
      "Extra Trees accuracy: 97.33333333333334%\n",
      "SVC accuracy: 98.22222222222223%\n"
     ]
    }
   ],
   "source": [
    "# Random Forest\n",
    "rf_clf = RandomForestClassifier(max_depth=20, random_state=42)\n",
    "rf_clf.fit(X_train, y_train)\n",
    "predictions = rf_clf.predict(X_val)\n",
    "accuracy = accuracy_score(y_val, predictions)\n",
    "print(f'Random Forest accuracy: {accuracy*100}%')\n",
    "\n",
    "# Extra Trees\n",
    "extra_clf = ExtraTreesClassifier(n_estimators=100, random_state=42)\n",
    "extra_clf.fit(X_train, y_train)\n",
    "predictions = extra_clf.predict(X_val)\n",
    "accuracy = accuracy_score(y_val, predictions)\n",
    "print(f'Extra Trees accuracy: {accuracy*100}%')\n",
    "\n",
    "# SVC\n",
    "svc = SVC(kernel='poly', probability=True)\n",
    "svc.fit(X_train, y_train)\n",
    "predictions = svc.predict(X_val)\n",
    "accuracy = accuracy_score(y_val, predictions)\n",
    "print(f'SVC accuracy: {accuracy*100}%')"
   ]
  },
  {
   "cell_type": "markdown",
   "metadata": {},
   "source": [
    "**Step 4: Combine classifiers into an ensemble**"
   ]
  },
  {
   "cell_type": "code",
   "execution_count": 319,
   "metadata": {},
   "outputs": [
    {
     "name": "stdout",
     "output_type": "stream",
     "text": [
      "RandomForestClassifier 98.22222222222223%\n",
      "ExtraTreesClassifier 98.22222222222223%\n",
      "SVC 99.11111111111111%\n",
      "VotingClassifier 99.11111111111111%\n"
     ]
    }
   ],
   "source": [
    "voting_clf = VotingClassifier(\n",
    "    estimators=[('rf', rf_clf), ('xtra', extra_clf), ('svc', svc)],\n",
    "    voting='soft'\n",
    ")\n",
    "\n",
    "voting_clf.fit(X_train, y_train)\n",
    "\n",
    "for clf in (rf_clf, extra_clf, svc, voting_clf):\n",
    "    clf.fit(X_train, y_train)\n",
    "    predictions = clf.predict(X_test)\n",
    "    print(f'{clf.__class__.__name__} {(accuracy_score(y_test, predictions)*100)}%')"
   ]
  },
  {
   "cell_type": "markdown",
   "metadata": {},
   "source": [
    "## Stacking Ensemble\n",
    "**Step 1: Generate new train set with the individual predictor's predictions**"
   ]
  },
  {
   "cell_type": "code",
   "execution_count": 323,
   "metadata": {},
   "outputs": [],
   "source": [
    "\n",
    "\n",
    "def get_predictions(data):\n",
    "    data_predictions = []\n",
    "\n",
    "    for instance in X_val:\n",
    "        instance_predictions = []\n",
    "\n",
    "        for clf in (rf_clf, extra_clf, svc):\n",
    "            prediction = clf.predict([instance])\n",
    "            instance_predictions.append(prediction[0])\n",
    "        \n",
    "        data_predictions.append(instance_predictions)\n",
    "\n",
    "        instance_predictions = []\n",
    "\n",
    "    return data_predictions\n",
    "\n",
    "\n",
    "# new train set\n",
    "X_train_new = get_predictions(X_val)\n",
    "y_train_new = y_val"
   ]
  },
  {
   "cell_type": "markdown",
   "metadata": {},
   "source": [
    "**Step 2: Train blender on new train set**"
   ]
  },
  {
   "cell_type": "code",
   "execution_count": 324,
   "metadata": {},
   "outputs": [
    {
     "data": {
      "text/plain": [
       "RandomForestClassifier(max_depth=20, random_state=42)"
      ]
     },
     "execution_count": 324,
     "metadata": {},
     "output_type": "execute_result"
    }
   ],
   "source": [
    "blender = RandomForestClassifier(max_depth=20, random_state=42)\n",
    "blender.fit(X_train_new, y_train_new)"
   ]
  },
  {
   "cell_type": "markdown",
   "metadata": {},
   "source": [
    "**Step 3: Evaluate the full ensemble on the test set**"
   ]
  },
  {
   "cell_type": "code",
   "execution_count": 325,
   "metadata": {},
   "outputs": [
    {
     "name": "stdout",
     "output_type": "stream",
     "text": [
      "Stacking ensemble accuracy: 99.55555555555556%\n"
     ]
    }
   ],
   "source": [
    "# this is the predictions of the individual classifiers on the test set\n",
    "clf_predictions = get_predictions(X_test)\n",
    "\n",
    "predictions = blender.predict(clf_predictions)\n",
    "accuracy = accuracy_score(y_val, predictions)\n",
    "print(f'Stacking ensemble accuracy: {accuracy*100}%')"
   ]
  },
  {
   "cell_type": "code",
   "execution_count": null,
   "metadata": {},
   "outputs": [],
   "source": []
  }
 ],
 "metadata": {
  "interpreter": {
   "hash": "aee8b7b246df8f9039afb4144a1f6fd8d2ca17a180786b69acc140d282b71a49"
  },
  "kernelspec": {
   "display_name": "Python 3.10.1 64-bit",
   "language": "python",
   "name": "python3"
  },
  "language_info": {
   "codemirror_mode": {
    "name": "ipython",
    "version": 3
   },
   "file_extension": ".py",
   "mimetype": "text/x-python",
   "name": "python",
   "nbconvert_exporter": "python",
   "pygments_lexer": "ipython3",
   "version": "3.10.1"
  },
  "orig_nbformat": 4
 },
 "nbformat": 4,
 "nbformat_minor": 2
}
